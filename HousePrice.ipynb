{
 "cells": [
  {
   "cell_type": "code",
   "execution_count": 21,
   "metadata": {},
   "outputs": [],
   "source": [
    "import numpy as np \n",
    "import pandas as pd \n",
    "from sklearn.neighbors import KNeighborsClassifier \n",
    "import matplotlib.pyplot as plt  \n",
    "import seaborn as sns "
   ]
  },
  {
   "cell_type": "code",
   "execution_count": 22,
   "metadata": {},
   "outputs": [],
   "source": [
    "test_data = pd.read_csv('test.csv') \n",
    "train_data = pd.read_csv('train.csv')\n",
    "test_data['PorchArea']  = test_data['OpenPorchSF'] + test_data['EnclosedPorch'] + test_data['3SsnPorch']\n",
    "train_data['PorchArea'] = train_data['OpenPorchSF'] + train_data['EnclosedPorch'] + train_data['3SsnPorch']"
   ]
  },
  {
   "cell_type": "code",
   "execution_count": 23,
   "metadata": {},
   "outputs": [],
   "source": [
    "y_test = pd.DataFrame(np.zeros(1459,))\n",
    "X_test = test_data.loc[:, ['LotArea', 'OverallQual', 'OverallCond', 'GrLivArea', 'PorchArea']]\n",
    "y_train = train_data['SalePrice']\n",
    "X_train = train_data.loc[:, ['LotArea', 'OverallQual', 'OverallCond', 'GrLivArea', 'PorchArea']]"
   ]
  },
  {
   "cell_type": "code",
   "execution_count": 24,
   "metadata": {},
   "outputs": [],
   "source": [
    "K = [] \n",
    "training = [] \n",
    "test = [] \n",
    "scores = {} \n",
    "  \n",
    "for k in range(2, 21): \n",
    "    clf = KNeighborsClassifier(n_neighbors = k) \n",
    "    clf.fit(X_train, y_train) \n",
    "  \n",
    "    training_score = clf.score(X_train, y_train) \n",
    "    test_score = clf.score(X_test, y_test) \n",
    "    K.append(k) \n",
    "  \n",
    "    training.append(training_score) \n",
    "    test.append(test_score) \n",
    "    scores[k] = [training_score, test_score] "
   ]
  },
  {
   "cell_type": "code",
   "execution_count": 25,
   "metadata": {},
   "outputs": [
    {
     "name": "stdout",
     "output_type": "stream",
     "text": [
      "2 : [0.5034246575342466, 0.0]\n",
      "3 : [0.34726027397260273, 0.0]\n",
      "4 : [0.26986301369863014, 0.0]\n",
      "5 : [0.2095890410958904, 0.0]\n",
      "6 : [0.18493150684931506, 0.0]\n",
      "7 : [0.1643835616438356, 0.0]\n",
      "8 : [0.14794520547945206, 0.0]\n",
      "9 : [0.13219178082191782, 0.0]\n",
      "10 : [0.1184931506849315, 0.0]\n",
      "11 : [0.11164383561643836, 0.0]\n",
      "12 : [0.10821917808219178, 0.0]\n",
      "13 : [0.10684931506849316, 0.0]\n",
      "14 : [0.10342465753424658, 0.0]\n",
      "15 : [0.10410958904109589, 0.0]\n",
      "16 : [0.09863013698630137, 0.0]\n",
      "17 : [0.0958904109589041, 0.0]\n",
      "18 : [0.09315068493150686, 0.0]\n",
      "19 : [0.08767123287671233, 0.0]\n",
      "20 : [0.08287671232876713, 0.0]\n"
     ]
    }
   ],
   "source": [
    "for keys, values in scores.items(): \n",
    "    print(keys, ':', values)"
   ]
  },
  {
   "cell_type": "code",
   "execution_count": 26,
   "metadata": {},
   "outputs": [
    {
     "data": {
      "image/png": "[encoded data removed]",
      "text/plain": [
       "<Figure size 640x480 with 1 Axes>"
      ]
     },
     "metadata": {},
     "output_type": "display_data"
    }
   ],
   "source": [
    "plt.scatter(K, training, color ='k') \n",
    "plt.scatter(K, test, color ='g') \n",
    "plt.show()"
   ]
  },
  {
   "cell_type": "code",
   "execution_count": 27,
   "metadata": {},
   "outputs": [
    {
     "name": "stdout",
     "output_type": "stream",
     "text": [
      "Running on local URL:  http://127.0.0.1:7862\n",
      "\n",
      "To create a public link, set `share=True` in `launch()`.\n"
     ]
    },
    {
     "data": {
      "text/html": [
       "<div><iframe src=\"http://127.0.0.1:7862/\" width=\"100%\" height=\"500\" allow=\"autoplay; camera; microphone; clipboard-read; clipboard-write;\" frameborder=\"0\" allowfullscreen></iframe></div>"
      ],
      "text/plain": [
       "<IPython.core.display.HTML object>"
      ]
     },
     "metadata": {},
     "output_type": "display_data"
    },
    {
     "data": {
      "text/plain": []
     },
     "execution_count": 27,
     "metadata": {},
     "output_type": "execute_result"
    }
   ],
   "source": [
    "import gradio as gr\n",
    "\n",
    "def Predict_Price(LotArea, OverallQual, OverallCond, GrLivArea, PorchArea):\n",
    "    data = [LotArea, OverallQual, OverallCond, GrLivArea, PorchArea]\n",
    "    user_data = pd.DataFrame([data])\n",
    "    return clf.predict(user_data)\n",
    "\n",
    "demo = gr.Interface(\n",
    "    fn=Predict_Price,\n",
    "    inputs=[\"text\", \"text\", \"text\", \"text\", \"text\"],\n",
    "    outputs=[\"text\"],\n",
    ")\n",
    "\n",
    "demo.launch()"
   ]
  }
 ],
 "metadata": {
  "kernelspec": {
   "display_name": "Python 3",
   "language": "python",
   "name": "python3"
  },
  "language_info": {
   "codemirror_mode": {
    "name": "ipython",
    "version": 3
   },
   "file_extension": ".py",
   "mimetype": "text/x-python",
   "name": "python",
   "nbconvert_exporter": "python",
   "pygments_lexer": "ipython3",
   "version": "3.11.5"
  }
 },
 "nbformat": 4,
 "nbformat_minor": 2
}
